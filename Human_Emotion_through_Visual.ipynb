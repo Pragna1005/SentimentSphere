{
  "nbformat": 4,
  "nbformat_minor": 0,
  "metadata": {
    "colab": {
      "provenance": [],
      "mount_file_id": "1uV5ezWB9AAEOGW3mfKsKNkkCco2AvBpb",
      "authorship_tag": "ABX9TyO39EJkHLuBCuX1T7Yuapix",
      "include_colab_link": true
    },
    "kernelspec": {
      "name": "python3",
      "display_name": "Python 3"
    },
    "language_info": {
      "name": "python"
    }
  },
  "cells": [
    {
      "cell_type": "markdown",
      "metadata": {
        "id": "view-in-github",
        "colab_type": "text"
      },
      "source": [
        "<a href=\"https://colab.research.google.com/github/tashir0605/SentimentSphere/blob/main/Human_Emotion_through_Visual.ipynb\" target=\"_parent\"><img src=\"https://colab.research.google.com/assets/colab-badge.svg\" alt=\"Open In Colab\"/></a>"
      ]
    },
    {
      "cell_type": "markdown",
      "source": [
        "# Imports"
      ],
      "metadata": {
        "id": "WMbLhmMx0APm"
      }
    },
    {
      "cell_type": "code",
      "execution_count": 77,
      "metadata": {
        "id": "5NtWAFIqzGW4"
      },
      "outputs": [],
      "source": [
        "import numpy as np\n",
        "import os\n",
        "from keras.datasets import mnist\n",
        "from tensorflow.keras.utils import to_categorical"
      ]
    },
    {
      "cell_type": "markdown",
      "source": [
        "# Layer Definitions"
      ],
      "metadata": {
        "id": "79c-fXLK0LbK"
      }
    },
    {
      "cell_type": "code",
      "source": [
        "class Dense:\n",
        "    def __init__(self, input_size, output_size):\n",
        "        self.weights = np.random.randn(output_size, input_size) * 0.01\n",
        "        self.bias = np.random.randn(output_size, 1) * 0.01\n",
        "\n",
        "    def forward(self, input):\n",
        "        self.input = input\n",
        "        return np.dot(self.weights, self.input) + self.bias\n",
        "\n",
        "    def backward(self, output_gradient, learning_rate):\n",
        "        weights_gradient = np.dot(output_gradient, self.input.T)\n",
        "        input_gradient = np.dot(self.weights.T, output_gradient)\n",
        "        self.weights -= learning_rate * weights_gradient\n",
        "        self.bias -= learning_rate * output_gradient\n",
        "        return input_gradient\n",
        "\n",
        "# Convolutional Layer\n",
        "from scipy import signal\n",
        "\n",
        "class Convolutional:\n",
        "    def __init__(self, input_shape, kernel_size, depth):\n",
        "        input_depth, input_height, input_width = input_shape\n",
        "        self.depth = depth\n",
        "        self.input_shape = input_shape\n",
        "        self.input_depth = input_depth\n",
        "        self.output_shape = (depth, input_height - kernel_size + 1, input_width - kernel_size + 1)\n",
        "        self.kernels_shape = (depth, input_depth, kernel_size, kernel_size)\n",
        "        self.kernels = np.random.randn(*self.kernels_shape)\n",
        "        self.biases = np.random.randn(*self.output_shape)\n",
        "\n",
        "    def forward(self, input):\n",
        "        self.input = input\n",
        "        self.output = np.copy(self.biases)\n",
        "        for i in range(self.depth):\n",
        "            for j in range(self.input_depth):\n",
        "                self.output[i] += signal.correlate2d(self.input[j], self.kernels[i, j], \"valid\")\n",
        "        return self.output\n",
        "\n",
        "    def backward(self, output_gradient, learning_rate):\n",
        "        kernels_gradient = np.zeros(self.kernels_shape)\n",
        "        input_gradient = np.zeros(self.input_shape)\n",
        "\n",
        "        for i in range(self.depth):\n",
        "            for j in range(self.input_depth):\n",
        "                kernels_gradient[i, j] = signal.correlate2d(self.input[j], output_gradient[i], \"valid\")\n",
        "                input_gradient[j] += signal.convolve2d(output_gradient[i], self.kernels[i, j], \"full\")\n",
        "\n",
        "        self.kernels -= learning_rate * kernels_gradient\n",
        "        self.biases -= learning_rate * output_gradient\n",
        "        return input_gradient\n",
        "\n",
        "    def get_parameters(self):\n",
        "        # Return kernels and biases as separate arrays\n",
        "        return self.kernels, self.biases\n",
        "\n",
        "    def set_parameters(self, params):\n",
        "        if len(params) == 2:\n",
        "            self.kernels, self.biases = params\n",
        "        else:\n",
        "            raise ValueError(f\"Expected 2 parameters (kernels, biases), but got {len(params)}\")\n",
        "\n",
        "# Reshape Layer\n",
        "class Reshape:\n",
        "    def __init__(self, input_shape, output_shape):\n",
        "        self.input_shape = input_shape\n",
        "        self.output_shape = output_shape\n",
        "\n",
        "    def forward(self, input):\n",
        "        return np.reshape(input, self.output_shape)"
      ],
      "metadata": {
        "id": "WyoloJOE0RTH"
      },
      "execution_count": 78,
      "outputs": []
    },
    {
      "cell_type": "markdown",
      "source": [
        "# Activation Functions"
      ],
      "metadata": {
        "id": "Pjpxe9Ut1Gue"
      }
    },
    {
      "cell_type": "code",
      "source": [
        "class Sigmoid:\n",
        "    def forward(self, x):\n",
        "        self.output = 1 / (1 + np.exp(-x))\n",
        "        return self.output\n",
        "\n",
        "    def backward(self, output_gradient, learning_rate):\n",
        "        # Reshape output_gradient to match self.output's shape if necessary\n",
        "        if output_gradient.shape != self.output.shape:\n",
        "            output_gradient = output_gradient.reshape(self.output.shape)\n",
        "        return output_gradient * (self.output * (1 - self.output))"
      ],
      "metadata": {
        "id": "o7ieiuj21Jn-"
      },
      "execution_count": 79,
      "outputs": []
    },
    {
      "cell_type": "markdown",
      "source": [
        "# Loss Functions"
      ],
      "metadata": {
        "id": "UChH-Vr41Xav"
      }
    },
    {
      "cell_type": "code",
      "source": [
        "def binary_cross_entropy(y_true, y_pred):\n",
        "    return -np.mean(y_true * np.log(y_pred) + (1 - y_true) * np.log(1 - y_pred))\n",
        "\n",
        "def binary_cross_entropy_prime(y_true, y_pred):\n",
        "    return ((1 - y_true) / (1 - y_pred) - y_true / y_pred) / np.size(y_true)"
      ],
      "metadata": {
        "id": "qUzrgLVy1b4y"
      },
      "execution_count": 80,
      "outputs": []
    },
    {
      "cell_type": "markdown",
      "source": [
        "# Training Utilities"
      ],
      "metadata": {
        "id": "jioSqSYe1fUy"
      }
    },
    {
      "cell_type": "code",
      "source": [
        "def train(network, loss, loss_prime, x_train, y_train, epochs=1000, learning_rate=0.01):\n",
        "    for epoch in range(epochs):\n",
        "        error = 0\n",
        "        for x, y in zip(x_train, y_train):\n",
        "            # Forward pass\n",
        "            output = x\n",
        "            for layer in network:\n",
        "                output = layer.forward(output)\n",
        "\n",
        "            # Loss\n",
        "            error += loss(y, output)\n",
        "\n",
        "            # Backward pass\n",
        "            grad = loss_prime(y, output)\n",
        "            for layer in reversed(network):\n",
        "                if hasattr(layer, 'backward'):\n",
        "                    grad = layer.backward(grad, learning_rate)\n",
        "\n",
        "        error /= len(x_train)\n",
        "        print(f\"{epoch + 1}/{epochs}, error={error:.4f}\")"
      ],
      "metadata": {
        "id": "5XP5tHBn1ipU"
      },
      "execution_count": 81,
      "outputs": []
    },
    {
      "cell_type": "markdown",
      "source": [
        "# Model Save/Load Functions"
      ],
      "metadata": {
        "id": "38P4BaLH1ktr"
      }
    },
    {
      "cell_type": "code",
      "source": [
        "def save_model(network, filename=\"model_params.npz\"):\n",
        "    params = {}\n",
        "    for i, layer in enumerate(network):\n",
        "        if hasattr(layer, 'get_parameters'):\n",
        "            # Get kernels and biases separately\n",
        "            kernels, biases = layer.get_parameters()\n",
        "            # Store them with separate keys\n",
        "            params[f'layer_{i}_kernels'] = kernels\n",
        "            params[f'layer_{i}_biases'] = biases\n",
        "    np.savez(filename, **params)\n",
        "\n",
        "def load_model(network, filename=\"model_params.npz\"):\n",
        "    if not os.path.exists(filename):\n",
        "        print(f\"Warning: Model file '{filename}' not found. Starting with a new model.\")  # Add this line\n",
        "        return False # Add this line to indicate load failure and prevent further execution\n",
        "    loaded = np.load(filename, allow_pickle=True)\n",
        "    for i, layer in enumerate(network):\n",
        "        if hasattr(layer, 'set_parameters'):\n",
        "            # Load kernels and biases using separate keys\n",
        "            kernels_key = f'layer_{i}_kernels'\n",
        "            biases_key = f'layer_{i}_biases'\n",
        "            if kernels_key in loaded and biases_key in loaded:\n",
        "                layer.set_parameters((loaded[kernels_key], loaded[biases_key]))\n",
        "    return True # Indicate successful load"
      ],
      "metadata": {
        "id": "x8Se-dub1ocd"
      },
      "execution_count": 82,
      "outputs": []
    },
    {
      "cell_type": "markdown",
      "source": [
        "# Data Preprocessing"
      ],
      "metadata": {
        "id": "067gCkWk1w4e"
      }
    },
    {
      "cell_type": "code",
      "source": [
        "def preprocess_data(x, y, limit):\n",
        "    zero_index = np.where(y == 0)[0][:limit]\n",
        "    one_index = np.where(y == 1)[0][:limit]\n",
        "    all_indices = np.hstack((zero_index, one_index))\n",
        "    all_indices = np.random.permutation(all_indices)\n",
        "    x, y = x[all_indices], y[all_indices]\n",
        "    x = x.reshape(len(x), 1, 28, 28)\n",
        "    x = x.astype(\"float32\") / 255\n",
        "    y = to_categorical(y)\n",
        "    y = y.reshape(len(y), 2, 1)\n",
        "    return x, y\n",
        "\n",
        "# Load data\n",
        "(x_train, y_train), (x_test, y_test) = mnist.load_data()\n",
        "x_train, y_train = preprocess_data(x_train, y_train, 100)\n",
        "x_test, y_test = preprocess_data(x_test, y_test, 100)"
      ],
      "metadata": {
        "id": "efAp8gbo11vA"
      },
      "execution_count": 83,
      "outputs": []
    },
    {
      "cell_type": "markdown",
      "source": [
        "# Network Definition & Training"
      ],
      "metadata": {
        "id": "aDTBy46B12Vq"
      }
    },
    {
      "cell_type": "code",
      "source": [
        "# Define network\n",
        "network = [\n",
        "    Convolutional((1, 28, 28), 3, 5),  # Input shape: (depth, height, width)\n",
        "    Sigmoid(),\n",
        "    Reshape((5, 26, 26), (5 * 26 * 26, 1)),  # Flatten output\n",
        "    Dense(5 * 26 * 26, 100),\n",
        "    Sigmoid(),\n",
        "    Dense(100, 2),\n",
        "    Sigmoid()\n",
        "]"
      ],
      "metadata": {
        "id": "HF5d3XTA150c"
      },
      "execution_count": 84,
      "outputs": []
    },
    {
      "cell_type": "markdown",
      "source": [
        "# Testing"
      ],
      "metadata": {
        "id": "B8pKo2PF17xw"
      }
    },
    {
      "cell_type": "code",
      "source": [
        "# Train or load\n",
        "if not load_model(network):\n",
        "    train(\n",
        "        network,\n",
        "        binary_cross_entropy,\n",
        "        binary_cross_entropy_prime,\n",
        "        x_train,\n",
        "        y_train,\n",
        "        epochs=20,\n",
        "        learning_rate=0.1\n",
        "    )\n",
        "    save_model(network)\n",
        "\n",
        "# Test\n",
        "correct = 0\n",
        "for x, y in zip(x_test, y_test):\n",
        "    output = predict(network, x)\n",
        "    pred = np.argmax(output)\n",
        "    true = np.argmax(y)\n",
        "    if pred == true:\n",
        "        correct += 1\n",
        "    print(f\"Predicted: {pred}, True: {true}\")\n",
        "\n",
        "print(f\"Accuracy: {correct/len(x_test)*100:.2f}%\")"
      ],
      "metadata": {
        "colab": {
          "base_uri": "https://localhost:8080/"
        },
        "id": "DPnNSwpX1-3k",
        "outputId": "94689686-e472-4662-d4e1-a8bdc1c9394d"
      },
      "execution_count": 85,
      "outputs": [
        {
          "output_type": "stream",
          "name": "stdout",
          "text": [
            "Warning: Model file 'model_params.npz' not found. Starting with a new model.\n",
            "1/20, error=0.6806\n",
            "2/20, error=0.2156\n",
            "3/20, error=0.0674\n",
            "4/20, error=0.0539\n",
            "5/20, error=0.0097\n",
            "6/20, error=0.0048\n",
            "7/20, error=0.0033\n",
            "8/20, error=0.0026\n",
            "9/20, error=0.0022\n",
            "10/20, error=0.0019\n",
            "11/20, error=0.0016\n",
            "12/20, error=0.0014\n",
            "13/20, error=0.0013\n",
            "14/20, error=0.0012\n",
            "15/20, error=0.0011\n",
            "16/20, error=0.0010\n",
            "17/20, error=0.0009\n",
            "18/20, error=0.0009\n",
            "19/20, error=0.0008\n",
            "20/20, error=0.0008\n",
            "Predicted: 1, True: 1\n",
            "Predicted: 1, True: 1\n",
            "Predicted: 1, True: 1\n",
            "Predicted: 0, True: 0\n",
            "Predicted: 0, True: 0\n",
            "Predicted: 1, True: 1\n",
            "Predicted: 1, True: 1\n",
            "Predicted: 1, True: 1\n",
            "Predicted: 1, True: 1\n",
            "Predicted: 0, True: 0\n",
            "Predicted: 1, True: 1\n",
            "Predicted: 0, True: 0\n",
            "Predicted: 1, True: 1\n",
            "Predicted: 1, True: 1\n",
            "Predicted: 0, True: 0\n",
            "Predicted: 1, True: 1\n",
            "Predicted: 0, True: 0\n",
            "Predicted: 1, True: 1\n",
            "Predicted: 1, True: 1\n",
            "Predicted: 1, True: 1\n",
            "Predicted: 0, True: 0\n",
            "Predicted: 0, True: 0\n",
            "Predicted: 0, True: 0\n",
            "Predicted: 1, True: 1\n",
            "Predicted: 0, True: 0\n",
            "Predicted: 0, True: 0\n",
            "Predicted: 0, True: 0\n",
            "Predicted: 0, True: 0\n",
            "Predicted: 0, True: 0\n",
            "Predicted: 1, True: 1\n",
            "Predicted: 1, True: 1\n",
            "Predicted: 1, True: 1\n",
            "Predicted: 1, True: 1\n",
            "Predicted: 0, True: 0\n",
            "Predicted: 0, True: 0\n",
            "Predicted: 1, True: 1\n",
            "Predicted: 0, True: 0\n",
            "Predicted: 1, True: 1\n",
            "Predicted: 0, True: 0\n",
            "Predicted: 1, True: 1\n",
            "Predicted: 1, True: 1\n",
            "Predicted: 1, True: 1\n",
            "Predicted: 0, True: 0\n",
            "Predicted: 0, True: 0\n",
            "Predicted: 1, True: 1\n",
            "Predicted: 0, True: 0\n",
            "Predicted: 1, True: 1\n",
            "Predicted: 1, True: 1\n",
            "Predicted: 0, True: 0\n",
            "Predicted: 0, True: 0\n",
            "Predicted: 1, True: 1\n",
            "Predicted: 1, True: 1\n",
            "Predicted: 1, True: 1\n",
            "Predicted: 0, True: 0\n",
            "Predicted: 1, True: 1\n",
            "Predicted: 0, True: 0\n",
            "Predicted: 1, True: 1\n",
            "Predicted: 0, True: 0\n",
            "Predicted: 1, True: 1\n",
            "Predicted: 0, True: 0\n",
            "Predicted: 1, True: 1\n",
            "Predicted: 1, True: 1\n",
            "Predicted: 0, True: 0\n",
            "Predicted: 1, True: 1\n",
            "Predicted: 0, True: 0\n",
            "Predicted: 0, True: 0\n",
            "Predicted: 0, True: 0\n",
            "Predicted: 0, True: 0\n",
            "Predicted: 1, True: 1\n",
            "Predicted: 0, True: 0\n",
            "Predicted: 1, True: 1\n",
            "Predicted: 0, True: 0\n",
            "Predicted: 1, True: 1\n",
            "Predicted: 0, True: 0\n",
            "Predicted: 1, True: 1\n",
            "Predicted: 1, True: 1\n",
            "Predicted: 0, True: 0\n",
            "Predicted: 0, True: 0\n",
            "Predicted: 1, True: 1\n",
            "Predicted: 0, True: 0\n",
            "Predicted: 0, True: 0\n",
            "Predicted: 0, True: 0\n",
            "Predicted: 0, True: 0\n",
            "Predicted: 0, True: 0\n",
            "Predicted: 0, True: 0\n",
            "Predicted: 0, True: 0\n",
            "Predicted: 0, True: 0\n",
            "Predicted: 0, True: 0\n",
            "Predicted: 1, True: 1\n",
            "Predicted: 1, True: 1\n",
            "Predicted: 1, True: 1\n",
            "Predicted: 0, True: 0\n",
            "Predicted: 0, True: 0\n",
            "Predicted: 0, True: 0\n",
            "Predicted: 1, True: 1\n",
            "Predicted: 0, True: 0\n",
            "Predicted: 1, True: 1\n",
            "Predicted: 1, True: 1\n",
            "Predicted: 1, True: 1\n",
            "Predicted: 0, True: 0\n",
            "Predicted: 0, True: 0\n",
            "Predicted: 1, True: 1\n",
            "Predicted: 1, True: 1\n",
            "Predicted: 0, True: 0\n",
            "Predicted: 0, True: 0\n",
            "Predicted: 0, True: 0\n",
            "Predicted: 0, True: 0\n",
            "Predicted: 0, True: 0\n",
            "Predicted: 1, True: 1\n",
            "Predicted: 0, True: 0\n",
            "Predicted: 0, True: 0\n",
            "Predicted: 0, True: 0\n",
            "Predicted: 0, True: 0\n",
            "Predicted: 1, True: 1\n",
            "Predicted: 0, True: 0\n",
            "Predicted: 0, True: 0\n",
            "Predicted: 0, True: 0\n",
            "Predicted: 1, True: 1\n",
            "Predicted: 1, True: 1\n",
            "Predicted: 0, True: 0\n",
            "Predicted: 0, True: 0\n",
            "Predicted: 0, True: 0\n",
            "Predicted: 0, True: 0\n",
            "Predicted: 1, True: 1\n",
            "Predicted: 1, True: 1\n",
            "Predicted: 1, True: 1\n",
            "Predicted: 0, True: 0\n",
            "Predicted: 1, True: 1\n",
            "Predicted: 1, True: 1\n",
            "Predicted: 1, True: 1\n",
            "Predicted: 1, True: 1\n",
            "Predicted: 0, True: 0\n",
            "Predicted: 1, True: 1\n",
            "Predicted: 0, True: 0\n",
            "Predicted: 0, True: 0\n",
            "Predicted: 0, True: 0\n",
            "Predicted: 1, True: 1\n",
            "Predicted: 1, True: 1\n",
            "Predicted: 1, True: 1\n",
            "Predicted: 1, True: 1\n",
            "Predicted: 1, True: 1\n",
            "Predicted: 1, True: 1\n",
            "Predicted: 1, True: 1\n",
            "Predicted: 1, True: 1\n",
            "Predicted: 0, True: 0\n",
            "Predicted: 1, True: 1\n",
            "Predicted: 0, True: 0\n",
            "Predicted: 0, True: 0\n",
            "Predicted: 1, True: 1\n",
            "Predicted: 1, True: 1\n",
            "Predicted: 0, True: 0\n",
            "Predicted: 1, True: 1\n",
            "Predicted: 0, True: 0\n",
            "Predicted: 0, True: 0\n",
            "Predicted: 0, True: 0\n",
            "Predicted: 1, True: 1\n",
            "Predicted: 1, True: 1\n",
            "Predicted: 0, True: 0\n",
            "Predicted: 1, True: 1\n",
            "Predicted: 0, True: 0\n",
            "Predicted: 1, True: 1\n",
            "Predicted: 1, True: 1\n",
            "Predicted: 0, True: 0\n",
            "Predicted: 0, True: 0\n",
            "Predicted: 1, True: 1\n",
            "Predicted: 0, True: 0\n",
            "Predicted: 1, True: 1\n",
            "Predicted: 0, True: 0\n",
            "Predicted: 1, True: 1\n",
            "Predicted: 0, True: 0\n",
            "Predicted: 0, True: 0\n",
            "Predicted: 1, True: 1\n",
            "Predicted: 0, True: 0\n",
            "Predicted: 1, True: 1\n",
            "Predicted: 0, True: 0\n",
            "Predicted: 1, True: 1\n",
            "Predicted: 1, True: 1\n",
            "Predicted: 1, True: 1\n",
            "Predicted: 0, True: 0\n",
            "Predicted: 0, True: 0\n",
            "Predicted: 0, True: 0\n",
            "Predicted: 1, True: 1\n",
            "Predicted: 1, True: 1\n",
            "Predicted: 1, True: 1\n",
            "Predicted: 0, True: 0\n",
            "Predicted: 0, True: 0\n",
            "Predicted: 0, True: 0\n",
            "Predicted: 0, True: 0\n",
            "Predicted: 1, True: 1\n",
            "Predicted: 1, True: 1\n",
            "Predicted: 1, True: 1\n",
            "Predicted: 0, True: 0\n",
            "Predicted: 1, True: 1\n",
            "Predicted: 0, True: 0\n",
            "Predicted: 1, True: 1\n",
            "Predicted: 1, True: 1\n",
            "Predicted: 1, True: 1\n",
            "Predicted: 1, True: 1\n",
            "Predicted: 1, True: 1\n",
            "Predicted: 0, True: 0\n",
            "Accuracy: 100.00%\n"
          ]
        }
      ]
    }
  ]
}